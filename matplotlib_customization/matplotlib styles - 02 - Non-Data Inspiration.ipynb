{
 "cells": [
  {
   "cell_type": "markdown",
   "metadata": {},
   "source": [
    "# Building and using styles in matplotlib"
   ]
  },
  {
   "cell_type": "code",
   "execution_count": 291,
   "metadata": {},
   "outputs": [],
   "source": [
    "import pandas as pd\n",
    "import matplotlib.pyplot as plt\n",
    "from cycler import cycler\n",
    "\n",
    "%matplotlib inline"
   ]
  },
  {
   "cell_type": "markdown",
   "metadata": {},
   "source": [
    "## rcParams\n",
    "\n",
    "rcParams are settings for matplotlib. They're how stylesheets work (the thing when you use `plt.style.use`.\n",
    "\n",
    "You can find examples of the different styles [here](https://matplotlib.org/2.1.1/gallery/style_sheets/style_sheets_reference.html) and [here](https://tonysyu.github.io/raw_content/matplotlib-style-gallery/gallery.html). A big long list is:\n",
    "\n",
    "- bmh\n",
    "- classic\n",
    "- dark_background\n",
    "- fivethirtyeight\n",
    "- ggplot \n",
    "- grayscale\n",
    "- seaborn-bright \n",
    "- seaborn-colorblind \n",
    "- seaborn-dark \n",
    "- seaborn-dark-palette \n",
    "- seaborn-darkgrid \n",
    "- seaborn-deep \n",
    "- seaborn-muted\n",
    "- seaborn-notebook \n",
    "- seaborn-paper\n",
    "- seaborn-pastel \n",
    "- seaborn-poster \n",
    "- seaborn-talk \n",
    "- seaborn-ticks\n",
    "- seaborn-white\n",
    "- seaborn-whitegrid \n",
    "\n",
    "You can find all of the options you can use with `plt.style.use` [in these files here](https://github.com/matplotlib/matplotlib/tree/master/lib/matplotlib/mpl-data/stylelib)"
   ]
  },
  {
   "cell_type": "markdown",
   "metadata": {},
   "source": [
    "### FiveThirtyEight\n",
    "\n",
    "This is the same as `plt.style.use('fivethirtyeight')`. You can find the file it's based on [right here](https://github.com/matplotlib/matplotlib/blob/master/lib/matplotlib/mpl-data/stylelib/fivethirtyeight.mplstyle)."
   ]
  },
  {
   "cell_type": "code",
   "execution_count": 2,
   "metadata": {},
   "outputs": [],
   "source": [
    "# # What do these things mean???\n",
    "# plt.rcdefaults()\n",
    "# plt.rcParams.update({\n",
    "#   'lines.linewidth': 4,\n",
    "#   'lines.solid_capstyle': 'butt',\n",
    "#   'legend.fancybox': True,\n",
    "#   'axes.prop_cycle': cycler('color', ['#008fd5', '#fc4f30', '#e5ae38', '#6d904f', '#8b8b8b', '#810f7c']),\n",
    "#   'axes.facecolor': '#f0f0f0',\n",
    "#   'axes.labelsize': 'large',\n",
    "#   'axes.axisbelow': True,\n",
    "#   'axes.grid': True,\n",
    "#   'axes.edgecolor': '#f0f0f0',\n",
    "#   'axes.linewidth': 3.0,\n",
    "#   'axes.titlesize': 'x-large',\n",
    "#   'patch.edgecolor': '#f0f0f0',\n",
    "#   'patch.linewidth': 0.5,\n",
    "#   'svg.fonttype': 'path',\n",
    "#   'grid.linestyle': '-',\n",
    "#   'grid.linewidth': 1.0,\n",
    "#   'grid.color': '#cbcbcb',\n",
    "#   'xtick.major.size': 0,\n",
    "#   'xtick.minor.size': 0,\n",
    "#   'ytick.major.size': 0,\n",
    "#   'ytick.minor.size': 0,\n",
    "#   'font.size': 14.0,\n",
    "#   'savefig.edgecolor': '#f0f0f0',\n",
    "#   'savefig.facecolor': '#f0f0f0',\n",
    "#   'figure.subplot.left': 0.08,\n",
    "#   'figure.subplot.right': 0.95,\n",
    "#   'figure.subplot.bottom': 0.07,\n",
    "#   'figure.facecolor': '#f0f0f0',\n",
    "# })"
   ]
  },
  {
   "cell_type": "markdown",
   "metadata": {},
   "source": [
    "### ggplot\n",
    "\n",
    "This is the same as `plt.style.use('ggplot')`. You can find the file it's based on [here](https://github.com/matplotlib/matplotlib/blob/master/lib/matplotlib/mpl-data/stylelib/ggplot.mplstyle)."
   ]
  },
  {
   "cell_type": "code",
   "execution_count": 3,
   "metadata": {},
   "outputs": [],
   "source": [
    "# plt.rcdefaults()\n",
    "plt.rcParams.update({\n",
    "  'patch.linewidth': 0.5,\n",
    "  'patch.facecolor': '#348ABD',\n",
    "  'patch.edgecolor': '#EEEEEE',\n",
    "  'patch.antialiased': True,\n",
    "  'font.size': 10.0,\n",
    "  'axes.facecolor': '#E5E5E5',\n",
    "  'axes.edgecolor': 'white',\n",
    "  'axes.linewidth': '1',\n",
    "  'axes.grid': True,\n",
    "  'axes.titlesize': 'x-large',\n",
    "  'axes.labelsize': 'large',\n",
    "  'axes.labelcolor': '#555555',\n",
    "  'axes.axisbelow': True,\n",
    "  'axes.prop_cycle': cycler('color', ['#E24A33', '#348ABD', '#988ED5', '#777777', '#FBC15E', '#8EBA42', '#FFB5B8']),\n",
    "  'xtick.color': '#555555',\n",
    "  'xtick.direction': 'out',\n",
    "  'ytick.color': '#555555',\n",
    "  'ytick.direction': 'out',\n",
    "  'grid.color': 'white',\n",
    "  'grid.linestyle': '-',\n",
    "  'figure.facecolor': 'white'\n",
    "# })"
   ]
  },
  {
   "cell_type": "markdown",
   "metadata": {},
   "source": [
    "### Yours!\n",
    "\n",
    "My abbreviated list of options to update can be found [here as a gist](https://gist.github.com/jsoma/8e453751dac9961afdef87c81ea4d5a4).\n",
    "\n",
    "Make sure you put **commas at the end of your lines.**"
   ]
  },
  {
   "cell_type": "code",
   "execution_count": 288,
   "metadata": {},
   "outputs": [],
   "source": [
    "plt.rcdefaults()\n",
    "plt.rcParams.update({\n",
    "    'pdf.fonttype': 42,\n",
    "    'ps.fonttype': 42,\n",
    "})"
   ]
  },
  {
   "cell_type": "code",
   "execution_count": null,
   "metadata": {},
   "outputs": [],
   "source": []
  },
  {
   "cell_type": "markdown",
   "metadata": {},
   "source": [
    "# Grouped bar graph (2 colors)"
   ]
  },
  {
   "cell_type": "code",
   "execution_count": 293,
   "metadata": {},
   "outputs": [
    {
     "data": {
      "text/html": [
       "<div>\n",
       "<style scoped>\n",
       "    .dataframe tbody tr th:only-of-type {\n",
       "        vertical-align: middle;\n",
       "    }\n",
       "\n",
       "    .dataframe tbody tr th {\n",
       "        vertical-align: top;\n",
       "    }\n",
       "\n",
       "    .dataframe thead th {\n",
       "        text-align: right;\n",
       "    }\n",
       "</style>\n",
       "<table border=\"1\" class=\"dataframe\">\n",
       "  <thead>\n",
       "    <tr style=\"text-align: right;\">\n",
       "      <th></th>\n",
       "      <th>state</th>\n",
       "      <th>male</th>\n",
       "      <th>female</th>\n",
       "    </tr>\n",
       "  </thead>\n",
       "  <tbody>\n",
       "    <tr>\n",
       "      <th>0</th>\n",
       "      <td>Texas</td>\n",
       "      <td>30</td>\n",
       "      <td>22</td>\n",
       "    </tr>\n",
       "    <tr>\n",
       "      <th>1</th>\n",
       "      <td>New Mexico</td>\n",
       "      <td>45</td>\n",
       "      <td>34</td>\n",
       "    </tr>\n",
       "    <tr>\n",
       "      <th>2</th>\n",
       "      <td>Colorado</td>\n",
       "      <td>32</td>\n",
       "      <td>44</td>\n",
       "    </tr>\n",
       "  </tbody>\n",
       "</table>\n",
       "</div>"
      ],
      "text/plain": [
       "        state  male  female\n",
       "0       Texas    30      22\n",
       "1  New Mexico    45      34\n",
       "2    Colorado    32      44"
      ]
     },
     "execution_count": 293,
     "metadata": {},
     "output_type": "execute_result"
    }
   ],
   "source": [
    "df = pd.read_csv(\"gender.csv\")\n",
    "df.head(3)"
   ]
  },
  {
   "cell_type": "code",
   "execution_count": 296,
   "metadata": {},
   "outputs": [
    {
     "data": {
      "image/png": "[encoded data removed]",
      "text/plain": [
       "<Figure size 720x288 with 1 Axes>"
      ]
     },
     "metadata": {},
     "output_type": "display_data"
    }
   ],
   "source": [
    "ax = df.plot(x='state', kind='barh', figsize=(10,4))\n",
    "\n",
    "# CUSTOMIZATION CODE GOES UNDER HERE\n",
    "ax.set_title(\"Population Gender Breakdown\",pad = 35,loc='left')\n",
    "ax.legend(bbox_to_anchor=(0., 1, 1., .15), loc=3,\n",
    "           ncol=2, borderaxespad=0.)\n",
    "ax.grid(False, axis='y')\n",
    "ax.set_ylabel(\"\")\n",
    "ax.xaxis.tick_bottom()\n",
    "plt.setp( ax.yaxis.get_majorticklabels(), ha=\"center\" )\n",
    "\n",
    "\n",
    "\n",
    "plt.rcParams.update({\n",
    "  'lines.linewidth': 4,\n",
    "  'lines.solid_capstyle': 'round',\n",
    "  'font.family':'DIN Alternate' ,\n",
    "  'font.stretch':'normal',\n",
    "  'legend.fancybox': False,\n",
    "  'legend.frameon':False,\n",
    "  'axes.prop_cycle': cycler('color', ['#00526d','#f0bb7f','#81ba9a','#90ced6','#f15b40']),\n",
    "  'axes.facecolor': '#FFFFFF',\n",
    "'axes.grid': True,\n",
    "  'axes.labelsize': 'large',\n",
    "  'axes.axisbelow': True,\n",
    "  \n",
    "  'axes.edgecolor': '#00526d',\n",
    "  'axes.linewidth': 1.0,\n",
    "  'axes.titlesize': 'x-large',\n",
    "    'axes.spines.left'   : True,\n",
    "    'axes.spines.bottom' : False,\n",
    "    'axes.spines.top'    : False,\n",
    "    'axes.spines.right'  : False,\n",
    " \n",
    "  'grid.linestyle': ':',\n",
    "  'grid.linewidth': 1.0,\n",
    "  'grid.color': '#00526d',\n",
    "    'xtick.top'           : True,\n",
    "    'ytick.major.pad': 50,\n",
    "    'ytick.left'           : True,\n",
    "    'ytick.direction'      : 'out',\n",
    "  'xtick.major.size': 0,\n",
    "  'xtick.minor.size': 0,\n",
    "  'ytick.major.size': 0,\n",
    "  'ytick.minor.size': 0,\n",
    "  'font.size': 14.0,\n",
    "\n",
    "  'figure.subplot.left': 0.08,\n",
    "  'figure.subplot.right': 0.95,\n",
    "  'figure.subplot.bottom': 0.07,\n",
    "  'figure.facecolor': 'FFFFFF',\n",
    "})\n",
    "\n",
    "\n",
    "\n",
    "\n",
    "# then we save it\n",
    "plt.savefig(\"graph-bar-grouped-2c.pdf\",bbox_inches='tight')\n",
    "plt.show()"
   ]
  },
  {
   "cell_type": "markdown",
   "metadata": {},
   "source": [
    "# Bar graph (Single color)"
   ]
  },
  {
   "cell_type": "code",
   "execution_count": 299,
   "metadata": {},
   "outputs": [
    {
     "data": {
      "text/plain": [
       "continent\n",
       "Africa        52.1025\n",
       "Oceania       67.4955\n",
       "Asia          70.4275\n",
       "N. America    70.5765\n",
       "S. America    70.7660\n",
       "Europe        75.5800\n",
       "Name: life_expectancy, dtype: float64"
      ]
     },
     "execution_count": 299,
     "metadata": {},
     "output_type": "execute_result"
    }
   ],
   "source": [
    "df = pd.read_csv(\"countries.csv\")\n",
    "result = df.groupby(\"continent\").life_expectancy.median().sort_values()\n",
    "result"
   ]
  },
  {
   "cell_type": "code",
   "execution_count": 302,
   "metadata": {},
   "outputs": [
    {
     "data": {
      "image/png": "[encoded data removed]",
      "text/plain": [
       "<Figure size 720x288 with 1 Axes>"
      ]
     },
     "metadata": {},
     "output_type": "display_data"
    }
   ],
   "source": [
    "color = plt.rcParams['axes.prop_cycle'].by_key()['color'][0]\n",
    "ax = result.plot(kind='barh', figsize=(10, 4), color=color)\n",
    "\n",
    "# CUSTOMIZATION CODE GOES UNDER HERE\n",
    "# CUSTOMIZATION CODE GOES UNDER HERE\n",
    "ax.set_title(\"Life Expectancy by Country\",pad = 35,loc='left')\n",
    "ax.legend(bbox_to_anchor=(0., 1, 1., .15), loc=3,\n",
    "           ncol=2, borderaxespad=0.)\n",
    "ax.grid(False, axis='y')\n",
    "ax.set_ylabel(\"\")\n",
    "\n",
    "ax.xaxis.tick_bottom()\n",
    "plt.setp( ax.yaxis.get_majorticklabels(), ha=\"center\" )\n",
    "\n",
    "\n",
    "\n",
    "plt.rcParams.update({\n",
    "  'lines.linewidth': 4,\n",
    "  'lines.solid_capstyle': 'round',\n",
    "  'font.family':'DIN Alternate' ,\n",
    "  'font.stretch':'normal',\n",
    "  'legend.fancybox': False,\n",
    "  'legend.frameon':False,\n",
    "  'axes.prop_cycle': cycler('color', ['#00526d','#81ba9a','#f15b40','#f0bb7f','#90ced6']),\n",
    "  'axes.facecolor': '#f9f1e6',\n",
    "'axes.grid': True,\n",
    "  'axes.labelsize': 'large',\n",
    "  'axes.axisbelow': True,\n",
    "  \n",
    "  'axes.edgecolor': '#00526d',\n",
    "  'axes.linewidth': 1.0,\n",
    "  'axes.titlesize': 'x-large',\n",
    "    'axes.spines.left'   : True,\n",
    "    'axes.spines.bottom' : False,\n",
    "    'axes.spines.top'    : False,\n",
    "    'axes.spines.right'  : False,\n",
    " \n",
    "  'grid.linestyle': ':',\n",
    "  'grid.linewidth': 1.0,\n",
    "  'grid.color': '#00526d',\n",
    "    'xtick.top'           : True,\n",
    "    'ytick.major.pad': 50,\n",
    "    'ytick.left'           : True,\n",
    "    'ytick.direction'      : 'out',\n",
    "  'xtick.major.size': 0,\n",
    "  'xtick.minor.size': 0,\n",
    "  'ytick.major.size': 0,\n",
    "  'ytick.minor.size': 0,\n",
    "  'font.size': 14.0,\n",
    "\n",
    "  'figure.subplot.left': 0.08,\n",
    "  'figure.subplot.right': 0.95,\n",
    "  'figure.subplot.bottom': 0.07,\n",
    "  'figure.facecolor': 'FFFFFF',\n",
    "})\n",
    "\n",
    "# then we save it\n",
    "plt.savefig(\"graph-bar-2.pdf\",bbox_inches='tight')\n",
    "plt.show()"
   ]
  },
  {
   "cell_type": "markdown",
   "metadata": {},
   "source": [
    "# Line graph"
   ]
  },
  {
   "cell_type": "code",
   "execution_count": 303,
   "metadata": {},
   "outputs": [
    {
     "data": {
      "text/html": [
       "<div>\n",
       "<style scoped>\n",
       "    .dataframe tbody tr th:only-of-type {\n",
       "        vertical-align: middle;\n",
       "    }\n",
       "\n",
       "    .dataframe tbody tr th {\n",
       "        vertical-align: top;\n",
       "    }\n",
       "\n",
       "    .dataframe thead th {\n",
       "        text-align: right;\n",
       "    }\n",
       "</style>\n",
       "<table border=\"1\" class=\"dataframe\">\n",
       "  <thead>\n",
       "    <tr style=\"text-align: right;\">\n",
       "      <th>continent</th>\n",
       "      <th>Africa</th>\n",
       "      <th>Asia</th>\n",
       "      <th>Europe</th>\n",
       "      <th>North America</th>\n",
       "      <th>Oceania</th>\n",
       "      <th>South America</th>\n",
       "    </tr>\n",
       "    <tr>\n",
       "      <th>year</th>\n",
       "      <th></th>\n",
       "      <th></th>\n",
       "      <th></th>\n",
       "      <th></th>\n",
       "      <th></th>\n",
       "      <th></th>\n",
       "    </tr>\n",
       "  </thead>\n",
       "  <tbody>\n",
       "    <tr>\n",
       "      <th>1997-01-01</th>\n",
       "      <td>4.532365</td>\n",
       "      <td>40.533368</td>\n",
       "      <td>19.424055</td>\n",
       "      <td>16.410128</td>\n",
       "      <td>0.787181</td>\n",
       "      <td>18.312904</td>\n",
       "    </tr>\n",
       "    <tr>\n",
       "      <th>1998-01-01</th>\n",
       "      <td>4.905586</td>\n",
       "      <td>35.360192</td>\n",
       "      <td>18.980460</td>\n",
       "      <td>21.200149</td>\n",
       "      <td>0.812552</td>\n",
       "      <td>18.741061</td>\n",
       "    </tr>\n",
       "  </tbody>\n",
       "</table>\n",
       "</div>"
      ],
      "text/plain": [
       "continent     Africa       Asia     Europe  North America   Oceania  \\\n",
       "year                                                                  \n",
       "1997-01-01  4.532365  40.533368  19.424055      16.410128  0.787181   \n",
       "1998-01-01  4.905586  35.360192  18.980460      21.200149  0.812552   \n",
       "\n",
       "continent   South America  \n",
       "year                       \n",
       "1997-01-01      18.312904  \n",
       "1998-01-01      18.741061  "
      ]
     },
     "execution_count": 303,
     "metadata": {},
     "output_type": "execute_result"
    }
   ],
   "source": [
    "df = pd.read_csv(\"visas-by-continent-long.csv\")\n",
    "df = df.groupby([\"year\", \"continent\"]).visas.sum().unstack().reset_index()\n",
    "df.drop(columns='Unknown', inplace=True)\n",
    "df['year'] = pd.to_datetime(df.year, format=\"%Y\")\n",
    "df.set_index('year', inplace=True)\n",
    "percent_df = df.div(df.sum(axis=1), axis='rows') * 100\n",
    "\n",
    "percent_df.head(2)"
   ]
  },
  {
   "cell_type": "code",
   "execution_count": 306,
   "metadata": {},
   "outputs": [
    {
     "data": {
      "image/png": "[encoded data removed]",
      "text/plain": [
       "<Figure size 720x360 with 1 Axes>"
      ]
     },
     "metadata": {},
     "output_type": "display_data"
    }
   ],
   "source": [
    "ax = percent_df.plot(kind='line', figsize=(10, 5))\n",
    "\n",
    "# CUSTOMIZATION CODE GOES UNDER HERE\n",
    "\n",
    "ax.set_title(\"Visas by Continent\",pad = 48,loc='left')\n",
    "ax.legend(bbox_to_anchor=(0, 1, 1., .15), loc=3,\n",
    "           ncol=3, borderaxespad=0)\n",
    "ax.grid(False, axis='x')\n",
    "ax.set_ylabel(\"\")\n",
    "ax.set_xlabel(\"\")\n",
    "ax.xaxis.tick_bottom()\n",
    "plt.setp( ax.yaxis.get_majorticklabels(), ha=\"center\" )\n",
    "\n",
    "\n",
    "\n",
    "plt.rcParams.update({\n",
    "  'lines.linewidth': 3,\n",
    "  'lines.solid_capstyle': 'round',\n",
    "  'font.family':'DIN Alternate' ,\n",
    "  'font.stretch':'normal',\n",
    "  'legend.fancybox': False,\n",
    "  'legend.frameon':False,\n",
    "  'axes.prop_cycle': cycler('color', ['#f0bb7f','#d9816b','#90ced6','#00526d','#81ba9a','#f15b40']),\n",
    "  'axes.facecolor': '#f9f1e6',\n",
    "'axes.grid': True,\n",
    "  'axes.labelsize': 'large',\n",
    "  'axes.axisbelow': True,\n",
    "  \n",
    "  'axes.edgecolor': '#00526d',\n",
    "  'axes.linewidth': 1.0,\n",
    "  'axes.titlesize': 'x-large',\n",
    "    'axes.spines.left'   : False,\n",
    "    'axes.spines.bottom' : False,\n",
    "    'axes.spines.top'    : False,\n",
    "    'axes.spines.right'  : False,\n",
    "  'patch.edgecolor': '#f0f0f0',\n",
    "  'patch.linewidth': 0.5,\n",
    "  'svg.fonttype': 'path',\n",
    "  'grid.linestyle': '--',\n",
    "  'grid.linewidth': 1.0,\n",
    "  'grid.color': '#FFFFFF',\n",
    "    'xtick.top'           : True,\n",
    "    'ytick.major.pad': 15,\n",
    "    'ytick.left'           : True,\n",
    "    'ytick.direction'      : 'out',\n",
    "  'xtick.major.size': 0,\n",
    "  'xtick.minor.size': 0,\n",
    "  'ytick.major.size': 0,\n",
    "  'ytick.minor.size': 0,\n",
    "  'font.size': 14.0,\n",
    "\n",
    "  'figure.subplot.left': 0.08,\n",
    "  'figure.subplot.right': 0.95,\n",
    "  'figure.subplot.bottom': 0.07,\n",
    "  'figure.facecolor': 'FFFFFF',\n",
    "})\n",
    "# then we save it\n",
    "plt.savefig(\"graph-lines-2.pdf\",bbox_inches='tight')\n",
    "plt.show()"
   ]
  },
  {
   "cell_type": "markdown",
   "metadata": {},
   "source": [
    "# Scatter plot"
   ]
  },
  {
   "cell_type": "code",
   "execution_count": 307,
   "metadata": {},
   "outputs": [
    {
     "data": {
      "text/html": [
       "<div>\n",
       "<style scoped>\n",
       "    .dataframe tbody tr th:only-of-type {\n",
       "        vertical-align: middle;\n",
       "    }\n",
       "\n",
       "    .dataframe tbody tr th {\n",
       "        vertical-align: top;\n",
       "    }\n",
       "\n",
       "    .dataframe thead th {\n",
       "        text-align: right;\n",
       "    }\n",
       "</style>\n",
       "<table border=\"1\" class=\"dataframe\">\n",
       "  <thead>\n",
       "    <tr style=\"text-align: right;\">\n",
       "      <th></th>\n",
       "      <th>country</th>\n",
       "      <th>continent</th>\n",
       "      <th>gdp_per_capita</th>\n",
       "      <th>life_expectancy</th>\n",
       "      <th>population</th>\n",
       "    </tr>\n",
       "  </thead>\n",
       "  <tbody>\n",
       "    <tr>\n",
       "      <th>0</th>\n",
       "      <td>Afghanistan</td>\n",
       "      <td>Asia</td>\n",
       "      <td>663</td>\n",
       "      <td>54.863</td>\n",
       "      <td>22856302</td>\n",
       "    </tr>\n",
       "    <tr>\n",
       "      <th>1</th>\n",
       "      <td>Albania</td>\n",
       "      <td>Europe</td>\n",
       "      <td>4195</td>\n",
       "      <td>74.200</td>\n",
       "      <td>3071856</td>\n",
       "    </tr>\n",
       "  </tbody>\n",
       "</table>\n",
       "</div>"
      ],
      "text/plain": [
       "       country continent  gdp_per_capita  life_expectancy  population\n",
       "0  Afghanistan      Asia             663           54.863    22856302\n",
       "1      Albania    Europe            4195           74.200     3071856"
      ]
     },
     "execution_count": 307,
     "metadata": {},
     "output_type": "execute_result"
    }
   ],
   "source": [
    "df = pd.read_csv(\"countries.csv\")\n",
    "df.head(2)"
   ]
  },
  {
   "cell_type": "code",
   "execution_count": null,
   "metadata": {},
   "outputs": [],
   "source": [
    "fig, ax = plt.subplots(figsize=(8, 6))\n",
    "\n",
    "# Don't touch this part of the code!\n",
    "colors = list(reversed(plt.rcParams['axes.prop_cycle'].by_key()['color']))\n",
    "\n",
    "groups = df.groupby('continent')\n",
    "for name, group in groups:\n",
    "    group.plot(kind='scatter', x='gdp_per_capita', y='life_expectancy', color=colors.pop(), label=name, s= 5 + (group.population / 200000), ax=ax, alpha=0.75)\n",
    "ax.legend_.remove()\n",
    "\n",
    "# CUSTOMIZATION CODE GOES UNDER HERE\n",
    "\n",
    "plt.rcParams.update({\n",
    "  'lines.linewidth': 3,\n",
    "  'lines.solid_capstyle': 'round',\n",
    "  'font.family':'DIN Alternate' ,\n",
    "  'font.stretch':'normal',\n",
    "  'legend.fancybox': False,\n",
    "  'legend.frameon':False,\n",
    "  'axes.prop_cycle': cycler('color', ['#d9816b','#00526d','#90ced6','#f0bb7f','#81ba9a','#f15b40','#4d6e5e']),\n",
    "  'axes.facecolor': '#f9f1e6',\n",
    "'axes.grid': True,\n",
    "  'axes.labelsize': 'large',\n",
    "  'axes.axisbelow': True,\n",
    "  \n",
    "  'axes.edgecolor': '#00526d',\n",
    "  'axes.linewidth': 1.0,\n",
    "  'axes.titlesize': 'x-large',\n",
    "    'axes.spines.left'   : False,\n",
    "    'axes.spines.bottom' : False,\n",
    "    'axes.spines.top'    : False,\n",
    "    'axes.spines.right'  : False,\n",
    "  'patch.edgecolor': '#f0f0f0',\n",
    "  'patch.linewidth': 0.5,\n",
    "  'svg.fonttype': 'path',\n",
    "  'grid.linestyle': '--',\n",
    "  'grid.linewidth': 1.0,\n",
    "  'grid.color': '#FFFFFF',\n",
    "    'xtick.top'           : True,\n",
    "    'ytick.major.pad': 15,\n",
    "    'ytick.left'           : True,\n",
    "    'ytick.direction'      : 'out',\n",
    "  'xtick.major.size': 0,\n",
    "  'xtick.minor.size': 0,\n",
    "  'ytick.major.size': 0,\n",
    "  'ytick.minor.size': 0,\n",
    "  'font.size': 14.0,\n",
    "  'savefig.edgecolor': '#f0f0f0',\n",
    "  'savefig.facecolor': '#f0f0f0',\n",
    "  'figure.subplot.left': 0.08,\n",
    "  'figure.subplot.right': 0.95,\n",
    "  'figure.subplot.bottom': 0.07,\n",
    "  'figure.facecolor': 'FFFFFF',\n",
    "})\n",
    "ax.set_xlabel(\"GDP per Capita\")\n",
    "ax.set_ylabel(\"Life Expectancy\")\n",
    "ax.grid(True)\n",
    "\n",
    "# then we save it\n",
    "plt.savefig(\"graph-scatter-2.pdf\",bbox_inches='tight')\n",
    "plt.show()"
   ]
  },
  {
   "cell_type": "code",
   "execution_count": null,
   "metadata": {},
   "outputs": [],
   "source": []
  },
  {
   "cell_type": "code",
   "execution_count": null,
   "metadata": {},
   "outputs": [],
   "source": []
  }
 ],
 "metadata": {
  "kernelspec": {
   "display_name": "Python 3",
   "language": "python",
   "name": "python3"
  },
  "language_info": {
   "codemirror_mode": {
    "name": "ipython",
    "version": 3
   },
   "file_extension": ".py",
   "mimetype": "text/x-python",
   "name": "python",
   "nbconvert_exporter": "python",
   "pygments_lexer": "ipython3",
   "version": "3.6.5"
  }
 },
 "nbformat": 4,
 "nbformat_minor": 2
}
